{
 "cells": [
  {
   "cell_type": "code",
   "execution_count": 2,
   "metadata": {
    "execution": {
     "iopub.execute_input": "2025-01-30T19:09:33.945177Z",
     "iopub.status.busy": "2025-01-30T19:09:33.944858Z",
     "iopub.status.idle": "2025-01-30T19:09:41.136224Z",
     "shell.execute_reply": "2025-01-30T19:09:41.135514Z",
     "shell.execute_reply.started": "2025-01-30T19:09:33.945152Z"
    },
    "trusted": true
   },
   "outputs": [
    {
     "name": "stderr",
     "output_type": "stream",
     "text": [
      "c:\\Users\\Admin\\anaconda3\\envs\\dfine\\Lib\\site-packages\\tqdm\\auto.py:21: TqdmWarning: IProgress not found. Please update jupyter and ipywidgets. See https://ipywidgets.readthedocs.io/en/stable/user_install.html\n",
      "  from .autonotebook import tqdm as notebook_tqdm\n"
     ]
    }
   ],
   "source": [
    "import numpy as np\n",
    "import os\n",
    "import matplotlib.pyplot as plt\n",
    "import cv2\n",
    "import torch\n",
    "from torch.utils.data import Dataset, DataLoader\n",
    "from torchvision import transforms\n",
    "from segnet import *\n",
    "device = torch.device(\"cuda\" if torch.cuda.is_available() else \"cpu\")"
   ]
  },
  {
   "cell_type": "code",
   "execution_count": 2,
   "metadata": {
    "execution": {
     "iopub.execute_input": "2025-01-30T19:09:41.519675Z",
     "iopub.status.busy": "2025-01-30T19:09:41.519440Z",
     "iopub.status.idle": "2025-01-30T19:09:41.523771Z",
     "shell.execute_reply": "2025-01-30T19:09:41.522972Z",
     "shell.execute_reply.started": "2025-01-30T19:09:41.519655Z"
    },
    "trusted": true
   },
   "outputs": [],
   "source": [
    "image_path = [\"C:/Users/Admin/Desktop/car/\"+\"data\"+i+\"/\"+\"data\"+i+\"/CameraRGB/\" for i in ['A', 'B']]\n",
    "mask_path = [\"C:/Users/Admin/Desktop/car/\"+\"data\"+i+\"/\"+\"data\"+i+\"/CameraSeg/\" for i in ['A', 'B']]"
   ]
  },
  {
   "cell_type": "code",
   "execution_count": 51,
   "metadata": {},
   "outputs": [],
   "source": [
    "input = torch.rand(4,4,256,256)\n",
    "mask = torch.rand(4,256,256).long()"
   ]
  },
  {
   "cell_type": "code",
   "execution_count": 52,
   "metadata": {},
   "outputs": [],
   "source": [
    "loss = DiceCrossEntropyLoss()"
   ]
  },
  {
   "cell_type": "code",
   "execution_count": 53,
   "metadata": {},
   "outputs": [
    {
     "data": {
      "text/plain": [
       "tensor(1.1582)"
      ]
     },
     "execution_count": 53,
     "metadata": {},
     "output_type": "execute_result"
    }
   ],
   "source": [
    "loss(input, mask)"
   ]
  },
  {
   "cell_type": "code",
   "execution_count": 48,
   "metadata": {},
   "outputs": [],
   "source": [
    "import torch\n",
    "\n",
    "def dice_loss(pred, target, smooth=1e-6):\n",
    "    # Dự đoán (sau softmax) và nhãn one-hot\n",
    "    pred = torch.softmax(pred, dim=1)  # [batch_size, num_classes, H, W]\n",
    "    target = torch.nn.functional.one_hot(target, num_classes=pred.shape[1])  # [batch_size, H, W, num_classes]\n",
    "    target = target.permute(0, 3, 1, 2)  # [batch_size, num_classes, H, W]\n",
    "\n",
    "    # Tính Dice Loss\n",
    "    intersection = (pred * target).sum(dim=(2, 3))\n",
    "    union = pred.sum(dim=(2, 3)) + target.sum(dim=(2, 3))\n",
    "    dice = 2.0 * intersection / (union + smooth)\n",
    "    return 1 - dice.mean()  # Dice Loss = 1 - Dice Score\n",
    "\n",
    "class DiceCrossEntropyLoss(nn.Module):\n",
    "    def __init__(self, weight_dice=0.5):\n",
    "        super(DiceCrossEntropyLoss, self).__init__()\n",
    "        self.weight_dice = weight_dice\n",
    "        self.ce_loss = nn.CrossEntropyLoss()\n",
    "\n",
    "    def forward(self, logits, target):\n",
    "        # Tính CrossEntropyLoss\n",
    "        ce = self.ce_loss(logits, target)\n",
    "\n",
    "        # Tính Dice Loss\n",
    "        dice = dice_loss(logits, target)\n",
    "\n",
    "        # Kết hợp hai hàm loss\n",
    "        return (1 - self.weight_dice) * ce + self.weight_dice * dice\n"
   ]
  },
  {
   "cell_type": "code",
   "execution_count": 4,
   "metadata": {},
   "outputs": [],
   "source": [
    "class DiceCrossEntropyLoss(nn.Module):\n",
    "    def __init__(self, weight_dice=0.5):\n",
    "        super(DiceCrossEntropyLoss, self).__init__()\n",
    "        self.weight_dice = weight_dice\n",
    "        self.ce_loss = nn.CrossEntropyLoss()\n",
    "\n",
    "    def forward(self, logits, target):\n",
    "        # Tính CrossEntropyLoss\n",
    "        ce = self.ce_loss(logits, target)\n",
    "\n",
    "        # Tính Dice Loss\n",
    "        dice = dice_loss(logits, target)\n",
    "\n",
    "        # Kết hợp hai hàm loss\n",
    "        return (1 - self.weight_dice) * ce + self.weight_dice * dice\n"
   ]
  },
  {
   "cell_type": "code",
   "execution_count": 3,
   "metadata": {},
   "outputs": [],
   "source": [
    "model = Segnet(21, version=\"n\", class_names = [])\n",
    "model=model.to(\"cuda\")"
   ]
  },
  {
   "cell_type": "code",
   "execution_count": 4,
   "metadata": {},
   "outputs": [
    {
     "name": "stderr",
     "output_type": "stream",
     "text": [
      "c:\\Users\\Admin\\anaconda3\\envs\\dfine\\Lib\\site-packages\\torch\\functional.py:512: UserWarning: torch.meshgrid: in an upcoming release, it will be required to pass the indexing argument. (Triggered internally at ..\\aten\\src\\ATen\\native\\TensorShape.cpp:3588.)\n",
      "  return _VF.meshgrid(tensors, **kwargs)  # type: ignore[attr-defined]\n",
      "c:\\Users\\Admin\\anaconda3\\envs\\dfine\\Lib\\site-packages\\torch\\nn\\modules\\conv.py:456: UserWarning: Plan failed with a cudnnException: CUDNN_BACKEND_EXECUTION_PLAN_DESCRIPTOR: cudnnFinalize Descriptor Failed cudnn_status: CUDNN_STATUS_NOT_SUPPORTED (Triggered internally at ..\\aten\\src\\ATen\\native\\cudnn\\Conv_v8.cpp:919.)\n",
      "  return F.conv2d(input, weight, bias, self.stride,\n"
     ]
    },
    {
     "data": {
      "text/plain": [
       "torch.Size([1, 21, 1024, 1024])"
      ]
     },
     "execution_count": 4,
     "metadata": {},
     "output_type": "execute_result"
    }
   ],
   "source": [
    "model(torch.rand(1,3,1024,1024).to(\"cuda\")).shape"
   ]
  },
  {
   "cell_type": "code",
   "execution_count": 6,
   "metadata": {},
   "outputs": [],
   "source": [
    "def count_parameters(model):\n",
    "    return sum(p.numel() for p in model.parameters() if p.requires_grad)"
   ]
  },
  {
   "cell_type": "code",
   "execution_count": 7,
   "metadata": {},
   "outputs": [
    {
     "data": {
      "text/plain": [
       "5164903"
      ]
     },
     "execution_count": 7,
     "metadata": {},
     "output_type": "execute_result"
    }
   ],
   "source": [
    "count_parameters(model)"
   ]
  },
  {
   "cell_type": "code",
   "execution_count": 31,
   "metadata": {},
   "outputs": [],
   "source": [
    "imgsz = 256"
   ]
  },
  {
   "cell_type": "code",
   "execution_count": 40,
   "metadata": {
    "execution": {
     "iopub.execute_input": "2025-01-30T19:09:41.525463Z",
     "iopub.status.busy": "2025-01-30T19:09:41.525182Z",
     "iopub.status.idle": "2025-01-30T19:09:41.539546Z",
     "shell.execute_reply": "2025-01-30T19:09:41.538890Z",
     "shell.execute_reply.started": "2025-01-30T19:09:41.525443Z"
    },
    "trusted": true
   },
   "outputs": [],
   "source": [
    "class CustomDataset(Dataset):\n",
    "  \n",
    "    def __init__(self, root_dir, mode='train', transform=None):\n",
    "        self.root_dir = root_dir\n",
    "        self.mode = mode  # 'train' or 'valid'\n",
    "        self.transform = transform\n",
    "        \n",
    "        # Set image and mask directories based on mode\n",
    "        self.img_dir = os.path.join(root_dir, mode, 'images')\n",
    "        self.mask_dir = os.path.join(root_dir, mode, 'masks')\n",
    "\n",
    "        self.image_names = []\n",
    "        self.mask_names = []\n",
    "\n",
    "        # Collect image and mask filenames\n",
    "        for n in os.listdir(self.img_dir):\n",
    "            self.image_names.append(os.path.join(self.img_dir, n))\n",
    "            self.mask_names.append(os.path.join(self.mask_dir, n.replace('.jpg', '.npy')))  \n",
    "\n",
    "    def __len__(self):\n",
    "        return len(self.image_names)\n",
    "    \n",
    "    def __getitem__(self, idx):\n",
    "        img_name = self.image_names[idx]\n",
    "        image = cv2.imread(img_name)\n",
    "        image = cv2.cvtColor(image, cv2.COLOR_BGR2RGB) \n",
    "\n",
    "        mask_name = self.mask_names[idx]\n",
    "        mask = np.load(mask_name)\n",
    "        mask = torch.from_numpy(mask).long()\n",
    "\n",
    "        if self.transform:\n",
    "            image = self.transform['Image'](image) \n",
    "            # mask = self.transform['Mask'](mask)\n",
    "       \n",
    "        sample = {'image': image, 'mask': mask}\n",
    "        return sample\n",
    "\n",
    "\n",
    "mean = [0.485, 0.456, 0.406]\n",
    "std = [0.229, 0.224, 0.225]\n",
    "    \n",
    "\n",
    "data_transforms = {\n",
    "        'Image': transforms.Compose([\n",
    "            transforms.ToPILImage(),                     \n",
    "            transforms.Resize((imgsz, imgsz)),           \n",
    "            transforms.ToTensor(),           \n",
    "            transforms.Normalize(mean, std)          \n",
    "        ]),\n",
    "        'Mask': transforms.Compose([\n",
    "            transforms.ToPILImage(),                   \n",
    "            transforms.Resize((imgsz, imgsz)),          \n",
    "            transforms.ToTensor()\n",
    "        ])\n",
    "    }\n",
    "\n",
    "    # Dataset cho Train và Test\n",
    "root_dir = r\"C:\\Users\\Admin\\Desktop\\Egg_Monitoring.v1i.coco-segmentation\"\n",
    "train_dataset = CustomDataset(root_dir, mode = \"train\", transform=data_transforms)\n",
    "val_dataset = CustomDataset(root_dir, mode = \"valid\", transform=data_transforms)\n",
    "\n",
    "\n",
    "train_loader = DataLoader(train_dataset, batch_size=3, shuffle=True)\n",
    "val_loader = DataLoader(val_dataset, batch_size=3, shuffle=False)"
   ]
  },
  {
   "cell_type": "code",
   "execution_count": 44,
   "metadata": {},
   "outputs": [
    {
     "data": {
      "text/plain": [
       "torch.Size([640, 640])"
      ]
     },
     "execution_count": 44,
     "metadata": {},
     "output_type": "execute_result"
    }
   ],
   "source": [
    "train_dataset[0]['mask'].shape"
   ]
  },
  {
   "cell_type": "code",
   "execution_count": 43,
   "metadata": {},
   "outputs": [
    {
     "data": {
      "image/png": "[encoded data removed]",
      "text/plain": [
       "<Figure size 640x480 with 2 Axes>"
      ]
     },
     "metadata": {},
     "output_type": "display_data"
    }
   ],
   "source": [
    "mask = train_dataset[0]['mask'].numpy()  # Chuyển tensor thành NumPy array nếu cần\n",
    "\n",
    "# Nếu mask có nhiều lớp, bạn có thể chọn lớp hoặc vẽ một cách khác.\n",
    "plt.imshow(mask, cmap='jet')  # Chọn cmap phù hợp (ví dụ: 'jet', 'gray', 'viridis', ...)\n",
    "plt.colorbar()  # Thêm thanh màu nếu cần\n",
    "plt.show()"
   ]
  },
  {
   "cell_type": "code",
   "execution_count": 10,
   "metadata": {
    "execution": {
     "iopub.execute_input": "2025-01-30T19:09:41.540572Z",
     "iopub.status.busy": "2025-01-30T19:09:41.540296Z",
     "iopub.status.idle": "2025-01-30T19:09:41.630705Z",
     "shell.execute_reply": "2025-01-30T19:09:41.629980Z",
     "shell.execute_reply.started": "2025-01-30T19:09:41.540545Z"
    },
    "trusted": true
   },
   "outputs": [],
   "source": [
    "dataloaders, image_datasets = dataload(image_path, mask_path)"
   ]
  },
  {
   "cell_type": "code",
   "execution_count": null,
   "metadata": {
    "execution": {
     "iopub.execute_input": "2025-01-30T19:13:28.572770Z",
     "iopub.status.busy": "2025-01-30T19:13:28.572413Z"
    },
    "trusted": true
   },
   "outputs": [
    {
     "name": "stdout",
     "output_type": "stream",
     "text": [
      "Epoch 1/1\n",
      "----------\n"
     ]
    },
    {
     "ename": "ValueError",
     "evalue": "dict contains fields not in fieldnames: 'Train_recall_class_1', 'Train_recall_class_3', 'Train_recall_class_0', 'Train_accuracy', 'Train_precision_class_0', 'Train_iou_class_0', 'Train_recall_class_4', 'Train_mean_iou', 'Train_precision_class_2', 'Train_iou_class_2', 'Train_precision_class_4', 'Train_iou_class_1', 'Train_iou_class_3', 'Train_precision_class_3', 'Train_precision_class_1', 'Train_recall_class_2', 'Train_iou_class_4'",
     "output_type": "error",
     "traceback": [
      "\u001b[1;31m---------------------------------------------------------------------------\u001b[0m",
      "\u001b[1;31mValueError\u001b[0m                                Traceback (most recent call last)",
      "Cell \u001b[1;32mIn[13], line 155\u001b[0m\n\u001b[0;32m    148\u001b[0m optimizer \u001b[38;5;241m=\u001b[39m torch\u001b[38;5;241m.\u001b[39moptim\u001b[38;5;241m.\u001b[39mAdam(model\u001b[38;5;241m.\u001b[39mparameters(), lr\u001b[38;5;241m=\u001b[39m\u001b[38;5;241m1e-5\u001b[39m)\n\u001b[0;32m    150\u001b[0m metrics \u001b[38;5;241m=\u001b[39m {\n\u001b[0;32m    151\u001b[0m     \u001b[38;5;124m'\u001b[39m\u001b[38;5;124mprecision\u001b[39m\u001b[38;5;124m'\u001b[39m: precision_score,\n\u001b[0;32m    152\u001b[0m     \u001b[38;5;124m'\u001b[39m\u001b[38;5;124mrecall\u001b[39m\u001b[38;5;124m'\u001b[39m: recall_score,\n\u001b[0;32m    153\u001b[0m     \u001b[38;5;124m'\u001b[39m\u001b[38;5;124mf1\u001b[39m\u001b[38;5;124m'\u001b[39m: f1_score\n\u001b[0;32m    154\u001b[0m }\n\u001b[1;32m--> 155\u001b[0m trained_model \u001b[38;5;241m=\u001b[39m \u001b[43mtrain_model\u001b[49m\u001b[43m(\u001b[49m\u001b[43mmodel\u001b[49m\u001b[43m,\u001b[49m\u001b[43m \u001b[49m\u001b[43mcriterion\u001b[49m\u001b[43m,\u001b[49m\u001b[43m \u001b[49m\u001b[43mdataloaders\u001b[49m\u001b[43m,\u001b[49m\u001b[43m \u001b[49m\u001b[43moptimizer\u001b[49m\u001b[43m,\u001b[49m\u001b[43m \u001b[49m\u001b[43mmetrics\u001b[49m\u001b[43m,\u001b[49m\u001b[43m \u001b[49m\u001b[43mbpath\u001b[49m\u001b[38;5;241;43m=\u001b[39;49m\u001b[38;5;124;43m\"\u001b[39;49m\u001b[38;5;124;43mC:/Users/Admin/Desktop/\u001b[39;49m\u001b[38;5;124;43m\"\u001b[39;49m\u001b[43m,\u001b[49m\u001b[43m \u001b[49m\u001b[43mnum_epochs\u001b[49m\u001b[38;5;241;43m=\u001b[39;49m\u001b[38;5;241;43m1\u001b[39;49m\u001b[43m)\u001b[49m\n\u001b[0;32m    157\u001b[0m \u001b[38;5;66;03m# Save the trained model\u001b[39;00m\n\u001b[0;32m    158\u001b[0m torch\u001b[38;5;241m.\u001b[39msave(trained_model, os\u001b[38;5;241m.\u001b[39mpath\u001b[38;5;241m.\u001b[39mjoin(\u001b[38;5;124m\"\u001b[39m\u001b[38;5;124mC:/Users/Admin/Desktop/\u001b[39m\u001b[38;5;124m\"\u001b[39m, \u001b[38;5;124m'\u001b[39m\u001b[38;5;124mtrained_model.pt\u001b[39m\u001b[38;5;124m'\u001b[39m))\n",
      "Cell \u001b[1;32mIn[13], line 130\u001b[0m, in \u001b[0;36mtrain_model\u001b[1;34m(model, criterion, dataloaders, optimizer, metrics, bpath, num_epochs, num_classes)\u001b[0m\n\u001b[0;32m    128\u001b[0m \u001b[38;5;28;01mwith\u001b[39;00m \u001b[38;5;28mopen\u001b[39m(os\u001b[38;5;241m.\u001b[39mpath\u001b[38;5;241m.\u001b[39mjoin(bpath, \u001b[38;5;124m'\u001b[39m\u001b[38;5;124mlog.csv\u001b[39m\u001b[38;5;124m'\u001b[39m), \u001b[38;5;124m'\u001b[39m\u001b[38;5;124ma\u001b[39m\u001b[38;5;124m'\u001b[39m, newline\u001b[38;5;241m=\u001b[39m\u001b[38;5;124m'\u001b[39m\u001b[38;5;124m'\u001b[39m) \u001b[38;5;28;01mas\u001b[39;00m csvfile:\n\u001b[0;32m    129\u001b[0m     writer \u001b[38;5;241m=\u001b[39m csv\u001b[38;5;241m.\u001b[39mDictWriter(csvfile, fieldnames\u001b[38;5;241m=\u001b[39mfieldnames)\n\u001b[1;32m--> 130\u001b[0m     \u001b[43mwriter\u001b[49m\u001b[38;5;241;43m.\u001b[39;49m\u001b[43mwriterow\u001b[49m\u001b[43m(\u001b[49m\u001b[43mbatchsummary\u001b[49m\u001b[43m)\u001b[49m\n\u001b[0;32m    132\u001b[0m \u001b[38;5;66;03m# Deep copy the model if it is the best\u001b[39;00m\n\u001b[0;32m    133\u001b[0m \u001b[38;5;28;01mif\u001b[39;00m phase \u001b[38;5;241m==\u001b[39m \u001b[38;5;124m'\u001b[39m\u001b[38;5;124mTest\u001b[39m\u001b[38;5;124m'\u001b[39m \u001b[38;5;129;01mand\u001b[39;00m epoch_loss \u001b[38;5;241m<\u001b[39m best_loss:\n",
      "File \u001b[1;32mc:\\Users\\Admin\\anaconda3\\envs\\dfine\\Lib\\csv.py:154\u001b[0m, in \u001b[0;36mDictWriter.writerow\u001b[1;34m(self, rowdict)\u001b[0m\n\u001b[0;32m    153\u001b[0m \u001b[38;5;28;01mdef\u001b[39;00m \u001b[38;5;21mwriterow\u001b[39m(\u001b[38;5;28mself\u001b[39m, rowdict):\n\u001b[1;32m--> 154\u001b[0m     \u001b[38;5;28;01mreturn\u001b[39;00m \u001b[38;5;28mself\u001b[39m\u001b[38;5;241m.\u001b[39mwriter\u001b[38;5;241m.\u001b[39mwriterow(\u001b[38;5;28;43mself\u001b[39;49m\u001b[38;5;241;43m.\u001b[39;49m\u001b[43m_dict_to_list\u001b[49m\u001b[43m(\u001b[49m\u001b[43mrowdict\u001b[49m\u001b[43m)\u001b[49m)\n",
      "File \u001b[1;32mc:\\Users\\Admin\\anaconda3\\envs\\dfine\\Lib\\csv.py:149\u001b[0m, in \u001b[0;36mDictWriter._dict_to_list\u001b[1;34m(self, rowdict)\u001b[0m\n\u001b[0;32m    147\u001b[0m     wrong_fields \u001b[38;5;241m=\u001b[39m rowdict\u001b[38;5;241m.\u001b[39mkeys() \u001b[38;5;241m-\u001b[39m \u001b[38;5;28mself\u001b[39m\u001b[38;5;241m.\u001b[39mfieldnames\n\u001b[0;32m    148\u001b[0m     \u001b[38;5;28;01mif\u001b[39;00m wrong_fields:\n\u001b[1;32m--> 149\u001b[0m         \u001b[38;5;28;01mraise\u001b[39;00m \u001b[38;5;167;01mValueError\u001b[39;00m(\u001b[38;5;124m\"\u001b[39m\u001b[38;5;124mdict contains fields not in fieldnames: \u001b[39m\u001b[38;5;124m\"\u001b[39m\n\u001b[0;32m    150\u001b[0m                          \u001b[38;5;241m+\u001b[39m \u001b[38;5;124m\"\u001b[39m\u001b[38;5;124m, \u001b[39m\u001b[38;5;124m\"\u001b[39m\u001b[38;5;241m.\u001b[39mjoin([\u001b[38;5;28mrepr\u001b[39m(x) \u001b[38;5;28;01mfor\u001b[39;00m x \u001b[38;5;129;01min\u001b[39;00m wrong_fields]))\n\u001b[0;32m    151\u001b[0m \u001b[38;5;28;01mreturn\u001b[39;00m (rowdict\u001b[38;5;241m.\u001b[39mget(key, \u001b[38;5;28mself\u001b[39m\u001b[38;5;241m.\u001b[39mrestval) \u001b[38;5;28;01mfor\u001b[39;00m key \u001b[38;5;129;01min\u001b[39;00m \u001b[38;5;28mself\u001b[39m\u001b[38;5;241m.\u001b[39mfieldnames)\n",
      "\u001b[1;31mValueError\u001b[0m: dict contains fields not in fieldnames: 'Train_recall_class_1', 'Train_recall_class_3', 'Train_recall_class_0', 'Train_accuracy', 'Train_precision_class_0', 'Train_iou_class_0', 'Train_recall_class_4', 'Train_mean_iou', 'Train_precision_class_2', 'Train_iou_class_2', 'Train_precision_class_4', 'Train_iou_class_1', 'Train_iou_class_3', 'Train_precision_class_3', 'Train_precision_class_1', 'Train_recall_class_2', 'Train_iou_class_4'"
     ]
    }
   ],
   "source": [
    "import csv\n",
    "import copy\n",
    "import time\n",
    "from tqdm.notebook import tqdm\n",
    "from sklearn.metrics import f1_score, roc_auc_score\n",
    "\n",
    "def train_model(model, criterion, dataloaders, optimizer, metrics, bpath, num_epochs=3):\n",
    "    since = time.time()\n",
    "    best_model_wts = copy.deepcopy(model.state_dict())\n",
    "    best_loss = 1e10\n",
    "    # Use gpu if available\n",
    "    device = torch.device(\"cuda\" if torch.cuda.is_available() else \"cpu\") #xm.xla_device() \n",
    "    model.to(device)\n",
    "    # Initialize the log file for training and testing loss and metrics\n",
    "    fieldnames = ['epoch', 'Train_loss', 'Test_loss'] + \\\n",
    "        [f'Train_{m}' for m in metrics.keys()] + \\\n",
    "        [f'Test_{m}' for m in metrics.keys()]\n",
    "    with open(os.path.join(bpath, 'log.csv'), 'w', newline='') as csvfile:\n",
    "        writer = csv.DictWriter(csvfile, fieldnames=fieldnames)\n",
    "        writer.writeheader()\n",
    "\n",
    "    for epoch in range(1, num_epochs+1):\n",
    "        print('Epoch {}/{}'.format(epoch, num_epochs))\n",
    "        print('-' * 10)\n",
    "        # Each epoch has a training and validation phase\n",
    "        # Initialize batch summary\n",
    "        batchsummary = {a: [0] for a in fieldnames}\n",
    "\n",
    "        for phase in ['Train', 'Test']:\n",
    "            if phase == 'Train':\n",
    "                model.train()  # Set model to training mode\n",
    "            else:\n",
    "                model.eval()   # Set model to evaluate mode\n",
    "\n",
    "            # Iterate over data.\n",
    "            for sample in iter(dataloaders[phase]):\n",
    "                inputs = sample['image'].to(device)\n",
    "                # inputs.requires_grad = True \n",
    "                masks = sample['mask'].to(device)\n",
    "                masks = masks.squeeze(1)\n",
    "                # masks.requires_grad = True \n",
    "                # zero the parameter gradients\n",
    "                optimizer.zero_grad()\n",
    "\n",
    "                # track history if only in train\n",
    "                with torch.set_grad_enabled(phase == 'Train'):\n",
    "                    outputs = model(inputs)\n",
    "                    loss = criterion(outputs, masks)\n",
    "                    y_pred = torch.argmax(outputs, dim=1).data.cpu().numpy().ravel()\n",
    "                    y_true = masks.data.cpu().numpy().ravel()\n",
    "#                     print(y_pred, y_true)\n",
    "                    for name, metric in metrics.items():\n",
    "                        if name == 'f1_score':\n",
    "                            # Use a classification threshold of 0.1\n",
    "                            batchsummary[f'{phase}_{name}'].append(\n",
    "                                metric(y_true > 0, y_pred > 0.1))\n",
    "                        else:\n",
    "                            batchsummary[f'{phase}_{name}'].append(\n",
    "                                metric(y_true.astype('uint8'), y_pred))\n",
    "\n",
    "                    # backward + optimize only if in training phase\n",
    "                    if phase == 'Train':\n",
    "                        loss.backward()\n",
    "                        optimizer.step()\n",
    "            batchsummary['epoch'] = epoch\n",
    "            epoch_loss = loss\n",
    "            batchsummary[f'{phase}_loss'] = epoch_loss.item()\n",
    "            print('{} Loss: {:.4f}'.format(\n",
    "                phase, loss))\n",
    "        for field in fieldnames[3:]:\n",
    "            batchsummary[field] = np.mean(batchsummary[field])\n",
    "        print(batchsummary)\n",
    "        with open(os.path.join(bpath, 'log.csv'), 'a', newline='') as csvfile:\n",
    "            writer = csv.DictWriter(csvfile, fieldnames=fieldnames)\n",
    "            writer.writerow(batchsummary)\n",
    "            # deep copy the model\n",
    "            if phase == 'Test' and loss < best_loss:\n",
    "                best_loss = loss\n",
    "                best_model_wts = copy.deepcopy(model.state_dict())\n",
    "\n",
    "    time_elapsed = time.time() - since\n",
    "    print('Training complete in {:.0f}m {:.0f}s'.format(\n",
    "        time_elapsed // 60, time_elapsed % 60))\n",
    "    print('Lowest Loss: {:4f}'.format(best_loss))\n",
    "\n",
    "    # load best model weights\n",
    "    model.load_state_dict(best_model_wts)\n",
    "#     torch.save(model, os.path.join(bpath, '50epochs_weights.pt'))\n",
    "    return model\n",
    "\n",
    "epochs = 20\n",
    "bpath = \"C:/Users/Admin/Desktop/\"\n",
    "\n",
    "# Specify the loss function\n",
    "criterion = DiceCrossEntropyLoss(weight_dice=0.5)\n",
    "# Specify the optimizer with a lower learning rate\n",
    "optimizer = torch.optim.Adam(model.parameters(), lr=1e-5)\n",
    "\n",
    "# Specify the evalutation metrics\n",
    "metrics = {'f1_score': f1_score} #, 'auroc': roc_auc_score}\n",
    "\n",
    "trained_model=train_model(model, criterion, dataloaders,optimizer, bpath=bpath, metrics=metrics, num_epochs=epochs)\n",
    "# xmp.spawn(train_model, args=(model, criterion, dataloaders, optimizer, bpath=bpath, metrics=metrics, num_epochs=num_epochs))\n",
    "\n",
    "torch.save(trained_model, os.path.join(bpath, f'{epochs}epochs_weights.pt'))"
   ]
  },
  {
   "cell_type": "code",
   "execution_count": null,
   "metadata": {},
   "outputs": [],
   "source": [
    "import numpy as np\n",
    "from sklearn.metrics import precision_score, recall_score, accuracy_score, jaccard_score\n",
    "\n",
    "def validate_model(model, dataloader, criterion, device, num_classes):\n",
    "    model.eval()  # Set model to evaluation mode\n",
    "    total_loss = 0\n",
    "    y_true_all = []\n",
    "    y_pred_all = []\n",
    "\n",
    "    with torch.no_grad():\n",
    "        for sample in iter(dataloader):\n",
    "            inputs = sample['image'].to(device)\n",
    "            masks = sample['mask'].to(device)\n",
    "            masks = masks.squeeze(1)\n",
    "\n",
    "            outputs = model(inputs)\n",
    "            loss = criterion(outputs, masks)\n",
    "            total_loss += loss.item()\n",
    "\n",
    "            y_pred = torch.argmax(outputs, dim=1).data.cpu().numpy().ravel()\n",
    "            y_true = masks.data.cpu().numpy().ravel()\n",
    "\n",
    "            y_true_all.extend(y_true)\n",
    "            y_pred_all.extend(y_pred)\n",
    "\n",
    "    # Calculate metrics\n",
    "    precision = precision_score(y_true_all, y_pred_all, average=None, labels=range(num_classes), zero_division=0)\n",
    "    recall = recall_score(y_true_all, y_pred_all, average=None, labels=range(num_classes), zero_division=0)\n",
    "    accuracy = accuracy_score(y_true_all, y_pred_all)\n",
    "    iou = jaccard_score(y_true_all, y_pred_all, average=None, labels=range(num_classes), zero_division=0)\n",
    "\n",
    "    # Calculate class-wise accuracy\n",
    "    class_accuracy = []\n",
    "    for i in range(num_classes):\n",
    "        class_mask = (np.array(y_true_all) == i)\n",
    "        if np.sum(class_mask) > 0:\n",
    "            class_accuracy.append(np.mean(np.array(y_pred_all)[class_mask] == np.array(y_true_all)[class_mask]))\n",
    "        else:\n",
    "            class_accuracy.append(0.0)  # If no samples for this class, set accuracy to 0\n",
    "\n",
    "    # Calculate mean metrics for 'all'\n",
    "    mean_precision = np.mean(precision)\n",
    "    mean_recall = np.mean(recall)\n",
    "    mean_iou = np.mean(iou)\n",
    "\n",
    "    return {\n",
    "        'loss': total_loss / len(dataloader),\n",
    "        'precision': precision,\n",
    "        'recall': recall,\n",
    "        'accuracy': accuracy,\n",
    "        'iou': iou,\n",
    "        'class_accuracy': class_accuracy,\n",
    "        'mean_precision': mean_precision,\n",
    "        'mean_recall': mean_recall,\n",
    "        'mean_iou': mean_iou\n",
    "    }\n",
    "\n",
    "def print_validation_results(metrics, num_classes):\n",
    "    print(\"Class\\t\\tP\\t\\tR\\t\\tAcc\\t\\tmIOU\")\n",
    "    print(\"-------------------------------------------------------------\")\n",
    "    \n",
    "    # Print results for 'all'\n",
    "    print(f\"all\\t\\t{metrics['mean_precision']:.4f}\\t\\t{metrics['mean_recall']:.4f}\\t\\t{metrics['accuracy']:.4f}\\t\\t{metrics['mean_iou']:.4f}\")\n",
    "    \n",
    "    # Print results for each class\n",
    "    for i in range(num_classes):\n",
    "        print(f\"class{i+1}\\t\\t{metrics['precision'][i]:.4f}\\t\\t{metrics['recall'][i]:.4f}\\t\\t{metrics['class_accuracy'][i]:.4f}\\t\\t{metrics['iou'][i]:.4f}\")\n",
    "# Example usage in the training loop\n",
    "num_classes = 10  # Replace with the actual number of classes in your dataset\n",
    "for epoch in range(1, num_epochs + 1):\n",
    "    print(f'Epoch {epoch}/{num_epochs}')\n",
    "    print('-' * 10)\n",
    "    \n",
    "    # Training phase (omitted for brevity)\n",
    "    \n",
    "    # Validation phase\n",
    "    val_metrics = validate_model(model, dataloaders['Test'], criterion, device, num_classes)\n",
    "    print_validation_results(val_metrics, num_classes)"
   ]
  },
  {
   "cell_type": "code",
   "execution_count": 26,
   "metadata": {},
   "outputs": [
    {
     "name": "stdout",
     "output_type": "stream",
     "text": [
      "Class\t\tP\t\tR\t\tAcc\t\tmIOU\n",
      "-------------------------------------------------------------\n",
      "all\t\t0.1503\t\t0.1705\t\t0.7040\t\t0.1317\n",
      "class1\t\t0.9770\t\t0.8375\t\t0.8375\t\t0.8214\n",
      "class2\t\t0.0228\t\t0.0000\t\t0.0000\t\t0.0000\n",
      "class3\t\t0.0000\t\t0.0000\t\t0.0000\t\t0.0000\n",
      "class4\t\t0.0545\t\t0.0000\t\t0.0000\t\t0.0000\n",
      "class5\t\t0.0000\t\t0.0000\t\t0.0000\t\t0.0000\n",
      "class6\t\t0.0056\t\t0.0001\t\t0.0001\t\t0.0001\n",
      "class7\t\t0.0002\t\t0.0000\t\t0.0000\t\t0.0000\n",
      "class8\t\t0.7936\t\t0.9453\t\t0.9453\t\t0.7587\n",
      "class9\t\t0.0023\t\t0.0000\t\t0.0000\t\t0.0000\n",
      "class10\t\t0.4293\t\t0.9275\t\t0.9275\t\t0.4154\n",
      "class11\t\t0.8710\t\t0.8680\t\t0.8680\t\t0.7691\n",
      "class12\t\t0.0000\t\t0.0000\t\t0.0000\t\t0.0000\n",
      "class13\t\t0.0002\t\t0.0027\t\t0.0027\t\t0.0002\n",
      "class14\t\t0.0000\t\t0.0000\t\t0.0000\t\t0.0000\n",
      "class15\t\t0.0000\t\t0.0000\t\t0.0000\t\t0.0000\n",
      "class16\t\t0.0000\t\t0.0000\t\t0.0000\t\t0.0000\n",
      "class17\t\t0.0000\t\t0.0000\t\t0.0000\t\t0.0000\n",
      "class18\t\t0.0000\t\t0.0000\t\t0.0000\t\t0.0000\n",
      "class19\t\t0.0000\t\t0.0000\t\t0.0000\t\t0.0000\n",
      "class20\t\t0.0000\t\t0.0000\t\t0.0000\t\t0.0000\n",
      "class21\t\t0.0000\t\t0.0000\t\t0.0000\t\t0.0000\n"
     ]
    }
   ],
   "source": [
    "# val_metrics = validate_model(model, dataloaders['Test'], criterion, device, num_classes=21)\n",
    "print_validation_results(val_metrics, num_classes = 21)"
   ]
  },
  {
   "cell_type": "code",
   "execution_count": 12,
   "metadata": {},
   "outputs": [],
   "source": [
    "import torch\n",
    "\n",
    "def count_parameters(model):\n",
    "    total_params = sum(p.numel() for p in model.parameters())\n",
    "    trainable_params = sum(p.numel() for p in model.parameters() if p.requires_grad)\n",
    "    \n",
    "    print(f\"Total parameters: {total_params}\")\n",
    "    print(f\"Trainable parameters: {trainable_params}\")\n",
    "    \n",
    "    return total_params, trainable_params\n"
   ]
  },
  {
   "cell_type": "code",
   "execution_count": 9,
   "metadata": {},
   "outputs": [],
   "source": [
    "mean = [0.485, 0.456, 0.406]\n",
    "std = [0.229, 0.224, 0.225]\n",
    "    \n",
    "\n",
    "data_transform = {\n",
    "        'Train': transforms.Compose([\n",
    "            transforms.ToPILImage(),                     \n",
    "            transforms.Resize((imgsz, imgsz)),           \n",
    "            transforms.ToTensor(),           \n",
    "            transforms.Normalize(mean, std)          \n",
    "        ]),\n",
    "        'Test': transforms.Compose([\n",
    "            transforms.ToPILImage(),\n",
    "            transforms.Resize((imgsz, imgsz)),\n",
    "            transforms.ToTensor(),\n",
    "            transforms.Normalize(mean, std)\n",
    "        ]),\n",
    "\n",
    "        'Mask': transforms.Compose([\n",
    "            transforms.ToPILImage(),                   \n",
    "            transforms.Resize((imgsz, imgsz)),          \n",
    "            transforms.ToTensor()\n",
    "        ])\n",
    "    }"
   ]
  },
  {
   "cell_type": "code",
   "execution_count": 41,
   "metadata": {},
   "outputs": [],
   "source": [
    "model_path = \"C:/Users/Admin/Documents/GitHub/Eggnet/best_model.pth\"\n",
    "img_path = r\"C:\\Users\\Admin\\Desktop\\car\\dataA\\dataA\\CameraRGB\\02_01_171.png\"\n",
    "seg_path = r\"C:\\Users\\Admin\\Desktop\\car\\dataA\\dataA\\CameraSeg\\02_01_171.png\"\n",
    "# Chọn thiết bị (CPU hoặc GPU nếu có)\n",
    "device = torch.device(\"cuda\" if torch.cuda.is_available() else \"cpu\")\n",
    "\n",
    "# Tải trọng số mô hình lên device\n",
    "state_dict = torch.load(model_path, map_location=device)\n",
    "model.load_state_dict(state_dict)\n",
    "model.to(device)  # Đưa model về GPU hoặc CPU\n",
    "model.eval()  # Chuyển sang chế độ đánh giá\n",
    "\n",
    "# Load và xử lý ảnh đầu vào\n",
    "originalImage = cv2.imread(img_path)\n",
    "temp_img = originalImage\n",
    "originalImage = cv2.cvtColor(originalImage, cv2.COLOR_BGR2RGB)\n",
    "\n",
    "originalImage = data_transform['Train'](originalImage).to(device)  # Chuyển ảnh lên device\n",
    "\n",
    "# Dự đoán\n",
    "with torch.no_grad():\n",
    "    a = model(originalImage.unsqueeze(0))  # Thêm batch dimension\n",
    "    y_pred = torch.argmax(a, dim=1).squeeze(0).cpu().numpy()  # Chuyển kết quả về CPU nếu cần"
   ]
  },
  {
   "cell_type": "code",
   "execution_count": 42,
   "metadata": {},
   "outputs": [
    {
     "data": {
      "text/plain": [
       "(-0.5, 255.5, 255.5, -0.5)"
      ]
     },
     "execution_count": 42,
     "metadata": {},
     "output_type": "execute_result"
    },
    {
     "data": {
      "image/png": "[encoded data removed]",
      "text/plain": [
       "<Figure size 1000x1000 with 3 Axes>"
      ]
     },
     "metadata": {},
     "output_type": "display_data"
    }
   ],
   "source": [
    "fig, arr=plt.subplots(1,3, figsize=(10,10))\n",
    "\n",
    "arr[0].imshow(cv2.cvtColor(temp_img, cv2.COLOR_BGR2RGB))\n",
    "arr[0].set_title('Original Image')\n",
    "arr[0].axis('off')\n",
    "arr[1].imshow(cv2.resize(cv2.imread(seg_path)[:,:,2], (imgsz, imgsz)))\n",
    "arr[1].set_title('True Mask')\n",
    "arr[1].axis('off')\n",
    "arr[2].imshow(y_pred)\n",
    "arr[2].set_title('Predicted Mask')\n",
    "arr[2].axis('off')"
   ]
  },
  {
   "cell_type": "code",
   "execution_count": 7,
   "metadata": {},
   "outputs": [
    {
     "name": "stdout",
     "output_type": "stream",
     "text": [
      "{0: 'Labeling-eggshells', 1: '15days', 2: '5days', 3: 'break', 4: 'crack'}\n"
     ]
    }
   ],
   "source": [
    "import json\n",
    "\n",
    "# Đường dẫn đến file annotation của COCO\n",
    "coco_json_path = r\"C:\\Users\\Admin\\Desktop\\Egg_Monitoring.v1i.coco-segmentation\\test\\_annotations.coco.json\"\n",
    "\n",
    "# Đọc file JSON\n",
    "with open(coco_json_path, \"r\") as f:\n",
    "    coco_data = json.load(f)\n",
    "\n",
    "# Lấy danh sách category\n",
    "class_names = {cat[\"id\"]: cat[\"name\"] for cat in coco_data[\"categories\"]}\n",
    "\n",
    "print(class_names)\n"
   ]
  },
  {
   "cell_type": "code",
   "execution_count": 12,
   "metadata": {},
   "outputs": [
    {
     "name": "stdout",
     "output_type": "stream",
     "text": [
      "1\n",
      "2\n",
      "3\n",
      "4\n"
     ]
    }
   ],
   "source": [
    "for x in range(1, len(class_names)):\n",
    "    print(x)"
   ]
  },
  {
   "cell_type": "code",
   "execution_count": 24,
   "metadata": {},
   "outputs": [],
   "source": [
    "import numpy as np\n",
    "\n",
    "def acc_per_class(y_true, y_pred):\n",
    "    \"\"\"\n",
    "    Tính độ chính xác cho từng lớp.\n",
    "    \n",
    "    Parameters:\n",
    "        y_true (np.array): Nhãn thực tế.\n",
    "        y_pred (np.array): Nhãn dự đoán.\n",
    "    \n",
    "    Returns:\n",
    "        dict: Độ chính xác cho từng lớp.\n",
    "    \"\"\"\n",
    "    # Số lớp\n",
    "    num_classes = len(np.unique(y_true))\n",
    "    \n",
    "    accuracies = {}\n",
    "    for class_id in range(num_classes):\n",
    "        class_mask = (y_true == class_id)\n",
    "        correct = (y_true[class_mask] == y_pred[class_mask]).sum()\n",
    "        total = class_mask.sum()\n",
    "        accuracy = correct / total if total > 0 else 0\n",
    "        accuracies[class_id] = accuracy\n",
    "    \n",
    "    return accuracies\n",
    "\n",
    "\n",
    "# Ví dụ sử dụng\n",
    "y_true = np.array([0, 1, 2, 2, 1, 0, 0, 1])\n",
    "y_pred = np.array([0, 1, 1, 2, 1, 0, 2, 1])\n",
    "\n",
    "accuracies = acc_per_class(y_true, y_pred)\n",
    "\n"
   ]
  },
  {
   "cell_type": "code",
   "execution_count": 25,
   "metadata": {},
   "outputs": [
    {
     "data": {
      "text/plain": [
       "{0: 0.6666666666666666, 1: 1.0, 2: 0.5}"
      ]
     },
     "execution_count": 25,
     "metadata": {},
     "output_type": "execute_result"
    }
   ],
   "source": [
    "accuracies"
   ]
  },
  {
   "cell_type": "code",
   "execution_count": 21,
   "metadata": {},
   "outputs": [
    {
     "data": {
      "text/plain": [
       "'Labeling-eggshells'"
      ]
     },
     "execution_count": 21,
     "metadata": {},
     "output_type": "execute_result"
    }
   ],
   "source": [
    "class_names[0]"
   ]
  },
  {
   "cell_type": "code",
   "execution_count": 19,
   "metadata": {},
   "outputs": [
    {
     "data": {
      "text/plain": [
       "0.6666666666666666"
      ]
     },
     "execution_count": 19,
     "metadata": {},
     "output_type": "execute_result"
    }
   ],
   "source": [
    "accuracies[0]"
   ]
  },
  {
   "cell_type": "code",
   "execution_count": 16,
   "metadata": {},
   "outputs": [],
   "source": [
    "mean_accuracy_excluding_first = np.mean(list(accuracies.values())[1:])"
   ]
  },
  {
   "cell_type": "code",
   "execution_count": 17,
   "metadata": {},
   "outputs": [
    {
     "data": {
      "text/plain": [
       "0.75"
      ]
     },
     "execution_count": 17,
     "metadata": {},
     "output_type": "execute_result"
    }
   ],
   "source": [
    "mean_accuracy_excluding_first"
   ]
  }
 ],
 "metadata": {
  "kaggle": {
   "accelerator": "nvidiaTeslaT4",
   "dataSources": [
    {
     "datasetId": 27201,
     "sourceId": 34686,
     "sourceType": "datasetVersion"
    }
   ],
   "dockerImageVersionId": 30840,
   "isGpuEnabled": true,
   "isInternetEnabled": true,
   "language": "python",
   "sourceType": "notebook"
  },
  "kernelspec": {
   "display_name": "dfine",
   "language": "python",
   "name": "python3"
  },
  "language_info": {
   "codemirror_mode": {
    "name": "ipython",
    "version": 3
   },
   "file_extension": ".py",
   "mimetype": "text/x-python",
   "name": "python",
   "nbconvert_exporter": "python",
   "pygments_lexer": "ipython3",
   "version": "3.11.9"
  }
 },
 "nbformat": 4,
 "nbformat_minor": 4
}
